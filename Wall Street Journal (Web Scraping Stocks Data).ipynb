{
 "cells": [
  {
   "cell_type": "code",
   "execution_count": 2,
   "id": "e2b9eeaf",
   "metadata": {},
   "outputs": [
    {
     "name": "stdout",
     "output_type": "stream",
     "text": [
      "Collecting autoscraper\n",
      "  Downloading autoscraper-1.1.12-py3-none-any.whl (10 kB)\n",
      "Requirement already satisfied: requests in c:\\users\\asus\\anaconda3\\lib\\site-packages (from autoscraper) (2.26.0)\n",
      "Collecting bs4\n",
      "  Downloading bs4-0.0.1.tar.gz (1.1 kB)\n",
      "Collecting lxml\n",
      "  Downloading lxml-4.7.1-cp38-cp38-win_amd64.whl (3.7 MB)\n",
      "Requirement already satisfied: beautifulsoup4 in c:\\users\\asus\\anaconda3\\lib\\site-packages (from bs4->autoscraper) (4.10.0)\n",
      "Requirement already satisfied: soupsieve>1.2 in c:\\users\\asus\\anaconda3\\lib\\site-packages (from beautifulsoup4->bs4->autoscraper) (2.3.1)\n",
      "Requirement already satisfied: idna<4,>=2.5 in c:\\users\\asus\\anaconda3\\lib\\site-packages (from requests->autoscraper) (3.3)\n",
      "Requirement already satisfied: charset-normalizer~=2.0.0 in c:\\users\\asus\\anaconda3\\lib\\site-packages (from requests->autoscraper) (2.0.4)\n",
      "Requirement already satisfied: certifi>=2017.4.17 in c:\\users\\asus\\anaconda3\\lib\\site-packages (from requests->autoscraper) (2021.10.8)\n",
      "Requirement already satisfied: urllib3<1.27,>=1.21.1 in c:\\users\\asus\\anaconda3\\lib\\site-packages (from requests->autoscraper) (1.26.7)\n",
      "Building wheels for collected packages: bs4\n",
      "  Building wheel for bs4 (setup.py): started\n",
      "  Building wheel for bs4 (setup.py): finished with status 'done'\n",
      "  Created wheel for bs4: filename=bs4-0.0.1-py3-none-any.whl size=1271 sha256=2fd53afe91cb105fe6026e2d613b56406dd043a4b49ce739a392086d3e362bc9\n",
      "  Stored in directory: c:\\users\\asus\\appdata\\local\\pip\\cache\\wheels\\75\\78\\21\\68b124549c9bdc94f822c02fb9aa3578a669843f9767776bca\n",
      "Successfully built bs4\n",
      "Installing collected packages: lxml, bs4, autoscraper\n",
      "Successfully installed autoscraper-1.1.12 bs4-0.0.1 lxml-4.7.1\n",
      "Note: you may need to restart the kernel to use updated packages.\n"
     ]
    }
   ],
   "source": [
    "pip install autoscraper"
   ]
  },
  {
   "cell_type": "code",
   "execution_count": 5,
   "id": "18728c23",
   "metadata": {},
   "outputs": [
    {
     "name": "stdout",
     "output_type": "stream",
     "text": [
      "['Stocks', 'Currencies', 'Futures', 'Bonds', 'Decliners', 'China', 'Economy', 'World Video', 'Politics', \"What's News Podcast\", 'Capital Journal', 'Politics Video', 'Washington Wire', 'Strategic Intelligence', 'Economy Video', 'Capital Account', 'Tech/WSJ.D', 'Consumer Products', 'Media & Marketing', 'Logistics Report', 'Heard on the Street', 'Cybersecurity', 'Space & Science', 'Personal Tech', 'Nicole Nguyen', 'Tech Podcast', 'Laura Saunders', 'Companies', 'Secrets of Wealthy Women Podcast', 'William A. Galston', 'Letters to the Editor', 'Masterpiece Series', 'Books', 'Arts Video', 'Commercial Real Estate', 'Real Estate Video', 'Food & Drink', 'Food', 'Jason Gay', 'Golf']\n"
     ]
    }
   ],
   "source": [
    "from autoscraper import AutoScraper\n",
    "\n",
    "url = 'https://www.wsj.com/market-data'\n",
    "\n",
    "wanted_list = [\"Stocks\"]\n",
    "\n",
    "scraper = AutoScraper()\n",
    "result = scraper.build(url,wanted_list)\n",
    "print(result)"
   ]
  },
  {
   "cell_type": "code",
   "execution_count": 6,
   "id": "645e95e4",
   "metadata": {},
   "outputs": [
    {
     "data": {
      "text/plain": [
       "{'rule_u8w3': ['Stocks', 'Currencies', 'Futures', 'Bonds'],\n",
       " 'rule_jp3k': ['Stocks', 'Decliners'],\n",
       " 'rule_49t9': ['China',\n",
       "  'Economy',\n",
       "  'World Video',\n",
       "  'Politics',\n",
       "  \"What's News Podcast\",\n",
       "  'Capital Journal',\n",
       "  'Politics Video',\n",
       "  'Washington Wire',\n",
       "  'Strategic Intelligence',\n",
       "  'Economy Video',\n",
       "  'Capital Account',\n",
       "  'Tech/WSJ.D',\n",
       "  'Consumer Products',\n",
       "  'Media & Marketing',\n",
       "  'Logistics Report',\n",
       "  'Heard on the Street',\n",
       "  'Cybersecurity',\n",
       "  'Space & Science',\n",
       "  'Personal Tech',\n",
       "  'Nicole Nguyen',\n",
       "  'Tech Podcast',\n",
       "  'Stocks',\n",
       "  'Laura Saunders',\n",
       "  'Companies',\n",
       "  'Secrets of Wealthy Women Podcast',\n",
       "  'William A. Galston',\n",
       "  'Letters to the Editor',\n",
       "  'Masterpiece Series',\n",
       "  'Books',\n",
       "  'Arts Video',\n",
       "  'Commercial Real Estate',\n",
       "  'Real Estate Video',\n",
       "  'Food & Drink',\n",
       "  'Bonds',\n",
       "  'Space & Science',\n",
       "  'Food',\n",
       "  'Jason Gay',\n",
       "  'Golf'],\n",
       " 'rule_6nbc': ['China',\n",
       "  'Economy',\n",
       "  'World Video',\n",
       "  'Politics',\n",
       "  \"What's News Podcast\",\n",
       "  'Capital Journal',\n",
       "  'Politics Video',\n",
       "  'Washington Wire',\n",
       "  'Strategic Intelligence',\n",
       "  'Economy Video',\n",
       "  'Capital Account',\n",
       "  'Tech/WSJ.D',\n",
       "  'Consumer Products',\n",
       "  'Media & Marketing',\n",
       "  'Logistics Report',\n",
       "  'Heard on the Street',\n",
       "  'Cybersecurity',\n",
       "  'Space & Science',\n",
       "  'Personal Tech',\n",
       "  'Nicole Nguyen',\n",
       "  'Tech Podcast',\n",
       "  'Stocks',\n",
       "  'Laura Saunders',\n",
       "  'Companies',\n",
       "  'Secrets of Wealthy Women Podcast',\n",
       "  'William A. Galston',\n",
       "  'Letters to the Editor',\n",
       "  'Masterpiece Series',\n",
       "  'Books',\n",
       "  'Arts Video',\n",
       "  'Commercial Real Estate',\n",
       "  'Real Estate Video',\n",
       "  'Food & Drink',\n",
       "  'Bonds',\n",
       "  'Space & Science',\n",
       "  'Food',\n",
       "  'Jason Gay',\n",
       "  'Golf']}"
      ]
     },
     "execution_count": 6,
     "metadata": {},
     "output_type": "execute_result"
    }
   ],
   "source": [
    "scraper.get_result_similar(\"https://www.wsj.com/market-data\",grouped=True)"
   ]
  },
  {
   "cell_type": "code",
   "execution_count": 7,
   "id": "00b5f376",
   "metadata": {},
   "outputs": [],
   "source": [
    "scraper.set_rule_aliases({'rule_u8w3':'Stocks','rule_49t9':'Economy'})\n",
    "scraper.keep_rules(['rule_u8w3','rule_49t9'])\n",
    "scraper.save('Wall_street_journal')"
   ]
  },
  {
   "cell_type": "code",
   "execution_count": 8,
   "id": "d914b8ec",
   "metadata": {},
   "outputs": [],
   "source": [
    "scraper.load('Wall_street_journal')"
   ]
  },
  {
   "cell_type": "code",
   "execution_count": 11,
   "id": "3a90e54c",
   "metadata": {},
   "outputs": [],
   "source": [
    "result=scraper.get_result_similar('https://www.wsj.com/market-data',group_by_alias=True)"
   ]
  },
  {
   "cell_type": "code",
   "execution_count": 14,
   "id": "4251a02e",
   "metadata": {},
   "outputs": [
    {
     "data": {
      "text/plain": [
       "['China',\n",
       " 'Economy',\n",
       " 'World Video',\n",
       " 'Politics',\n",
       " \"What's News Podcast\",\n",
       " 'Capital Journal',\n",
       " 'Politics Video',\n",
       " 'Washington Wire',\n",
       " 'Strategic Intelligence',\n",
       " 'Economy Video',\n",
       " 'Capital Account',\n",
       " 'Tech/WSJ.D',\n",
       " 'Consumer Products',\n",
       " 'Media & Marketing',\n",
       " 'Logistics Report',\n",
       " 'Heard on the Street',\n",
       " 'Cybersecurity',\n",
       " 'Space & Science',\n",
       " 'Personal Tech',\n",
       " 'Nicole Nguyen',\n",
       " 'Tech Podcast',\n",
       " 'Stocks',\n",
       " 'Laura Saunders',\n",
       " 'Companies',\n",
       " 'Secrets of Wealthy Women Podcast',\n",
       " 'William A. Galston',\n",
       " 'Letters to the Editor',\n",
       " 'Masterpiece Series',\n",
       " 'Books',\n",
       " 'Arts Video',\n",
       " 'Commercial Real Estate',\n",
       " 'Real Estate Video',\n",
       " 'Food & Drink',\n",
       " 'Bonds',\n",
       " 'Space & Science',\n",
       " 'Food',\n",
       " 'Jason Gay',\n",
       " 'Golf']"
      ]
     },
     "execution_count": 14,
     "metadata": {},
     "output_type": "execute_result"
    }
   ],
   "source": [
    "result['Economy']"
   ]
  },
  {
   "cell_type": "code",
   "execution_count": null,
   "id": "1c62ebed",
   "metadata": {},
   "outputs": [],
   "source": []
  }
 ],
 "metadata": {
  "kernelspec": {
   "display_name": "Python 3 (ipykernel)",
   "language": "python",
   "name": "python3"
  },
  "language_info": {
   "codemirror_mode": {
    "name": "ipython",
    "version": 3
   },
   "file_extension": ".py",
   "mimetype": "text/x-python",
   "name": "python",
   "nbconvert_exporter": "python",
   "pygments_lexer": "ipython3",
   "version": "3.8.8"
  }
 },
 "nbformat": 4,
 "nbformat_minor": 5
}
